{
 "cells": [
  {
   "cell_type": "markdown",
   "metadata": {
    "colab_type": "text",
    "id": "UjfquuN3HkHt"
   },
   "source": [
    "# Оценка стоимости недвижимости с помощью нейронной сети\n",
    "\n",
    "Пример из курса [\"Программирование глубоких нейронных сетей на Python\"](https://www.asozykin.ru/courses/nnpython).\n",
    "\n",
    "Чтобы запускать и редактировать код, сохраните копию этого ноутбука себе (File->Save a copy in Drive...). Свою копию вы сможете изменять и запускать."
   ]
  },
  {
   "cell_type": "code",
   "execution_count": 0,
   "metadata": {
    "colab": {
     "autoexec": {
      "startup": false,
      "wait_interval": 0
     }
    },
    "colab_type": "code",
    "id": "VY9tayQBHh1M"
   },
   "outputs": [],
   "source": [
    "from tensorflow.python.keras.datasets import boston_housing\n",
    "from tensorflow.python.keras.models import Sequential\n",
    "from tensorflow.python.keras.layers import Dense"
   ]
  },
  {
   "cell_type": "markdown",
   "metadata": {
    "colab_type": "text",
    "id": "lzmoZSmvH41N"
   },
   "source": [
    "## Подготовка данных"
   ]
  },
  {
   "cell_type": "markdown",
   "metadata": {
    "colab_type": "text",
    "id": "s8hejqycICpn"
   },
   "source": [
    "**Загружаем данные**"
   ]
  },
  {
   "cell_type": "code",
   "execution_count": 2,
   "metadata": {
    "colab": {
     "autoexec": {
      "startup": false,
      "wait_interval": 0
     },
     "base_uri": "https://localhost:8080/",
     "height": 89
    },
    "colab_type": "code",
    "executionInfo": {
     "elapsed": 1109,
     "status": "ok",
     "timestamp": 1521103382926,
     "user": {
      "displayName": "Andrey Sozykin",
      "photoUrl": "//lh5.googleusercontent.com/-ErNH158Vx74/AAAAAAAAAAI/AAAAAAAAALA/FLh7rOkXgJs/s50-c-k-no/photo.jpg",
      "userId": "101492825683836041366"
     },
     "user_tz": -300
    },
    "id": "aBte_p1uH_NP",
    "outputId": "0791ab3d-a0eb-43ff-a891-4654ba782bb6"
   },
   "outputs": [
    {
     "name": "stdout",
     "output_type": "stream",
     "text": [
      "Downloading data from https://s3.amazonaws.com/keras-datasets/boston_housing.npz\n",
      "57344/57026 [==============================]57344/57026 [==============================] - 0s 3us/step\n",
      "\n"
     ]
    }
   ],
   "source": [
    "(x_train, y_train), (x_test, y_test) = boston_housing.load_data()"
   ]
  },
  {
   "cell_type": "markdown",
   "metadata": {
    "colab_type": "text",
    "id": "FaxQEJNPINzd"
   },
   "source": [
    "**Просмотр данных**"
   ]
  },
  {
   "cell_type": "code",
   "execution_count": 3,
   "metadata": {
    "colab": {
     "autoexec": {
      "startup": false,
      "wait_interval": 0
     },
     "base_uri": "https://localhost:8080/",
     "height": 69
    },
    "colab_type": "code",
    "executionInfo": {
     "elapsed": 602,
     "status": "ok",
     "timestamp": 1521103419389,
     "user": {
      "displayName": "Andrey Sozykin",
      "photoUrl": "//lh5.googleusercontent.com/-ErNH158Vx74/AAAAAAAAAAI/AAAAAAAAALA/FLh7rOkXgJs/s50-c-k-no/photo.jpg",
      "userId": "101492825683836041366"
     },
     "user_tz": -300
    },
    "id": "rPCzteI5IS09",
    "outputId": "f41fc7cc-0745-4292-ea8c-e3db8b281384"
   },
   "outputs": [
    {
     "name": "stdout",
     "output_type": "stream",
     "text": [
      "[  3.69311   0.       18.1       0.        0.713     6.376    88.4\n",
      "   2.5671   24.      666.       20.2     391.43     14.65   ]\n",
      "17.7\n"
     ]
    }
   ],
   "source": [
    "n = 4\n",
    "print(x_train[n])\n",
    "print(y_train[n])"
   ]
  },
  {
   "cell_type": "markdown",
   "metadata": {
    "colab_type": "text",
    "id": "H2-y8KVEIhHN"
   },
   "source": [
    "**Стандартизация данных**\n",
    "\n",
    "Вычитаем среднее значение и делим на стандартное отклонение"
   ]
  },
  {
   "cell_type": "code",
   "execution_count": 0,
   "metadata": {
    "colab": {
     "autoexec": {
      "startup": false,
      "wait_interval": 0
     }
    },
    "colab_type": "code",
    "id": "YiOT7gOXIp9d"
   },
   "outputs": [],
   "source": [
    "# Среднее значение\n",
    "mean = x_train.mean(axis=0)\n",
    "# Стандартное отклонение\n",
    "std = x_train.std(axis=0)\n",
    "x_train -= mean\n",
    "x_train /= std\n",
    "x_test -= mean\n",
    "x_test /= std"
   ]
  },
  {
   "cell_type": "markdown",
   "metadata": {
    "colab_type": "text",
    "id": "RmlSp15AK_JG"
   },
   "source": [
    "## Создаем нейронную сеть\n",
    "\n",
    "Выходной слой с одним линейным нейроном - для задачи регрессии функция активации не используется.\n",
    "\n",
    "Функция ошибки - среднеквадратичное отклонение. Метрика - среднее абсолютное отклонение."
   ]
  },
  {
   "cell_type": "code",
   "execution_count": 0,
   "metadata": {
    "colab": {
     "autoexec": {
      "startup": false,
      "wait_interval": 0
     }
    },
    "colab_type": "code",
    "id": "YnCnMQ91LCKV"
   },
   "outputs": [],
   "source": [
    "model = Sequential()\n",
    "model.add(Dense(128, activation='relu', input_shape=(x_train.shape[1],)))\n",
    "model.add(Dense(1))"
   ]
  },
  {
   "cell_type": "code",
   "execution_count": 7,
   "metadata": {
    "colab": {
     "autoexec": {
      "startup": false,
      "wait_interval": 0
     },
     "base_uri": "https://localhost:8080/",
     "height": 225
    },
    "colab_type": "code",
    "executionInfo": {
     "elapsed": 621,
     "status": "ok",
     "timestamp": 1521104613640,
     "user": {
      "displayName": "Andrey Sozykin",
      "photoUrl": "//lh5.googleusercontent.com/-ErNH158Vx74/AAAAAAAAAAI/AAAAAAAAALA/FLh7rOkXgJs/s50-c-k-no/photo.jpg",
      "userId": "101492825683836041366"
     },
     "user_tz": -300
    },
    "id": "kFAVtJ1Z5jhy",
    "outputId": "9c9d6ce8-95f9-431a-a0f0-df7d530a68e0"
   },
   "outputs": [
    {
     "name": "stdout",
     "output_type": "stream",
     "text": [
      "_________________________________________________________________\n",
      "Layer (type)                 Output Shape              Param #   \n",
      "=================================================================\n",
      "dense_1 (Dense)              (None, 128)               1792      \n",
      "_________________________________________________________________\n",
      "dense_2 (Dense)              (None, 1)                 129       \n",
      "=================================================================\n",
      "Total params: 1,921\n",
      "Trainable params: 1,921\n",
      "Non-trainable params: 0\n",
      "_________________________________________________________________\n",
      "None\n"
     ]
    }
   ],
   "source": [
    "print(model.summary())"
   ]
  },
  {
   "cell_type": "markdown",
   "metadata": {
    "colab_type": "text",
    "id": "F3g-CAK5LPx1"
   },
   "source": [
    "**Компилируем сеть**"
   ]
  },
  {
   "cell_type": "code",
   "execution_count": 0,
   "metadata": {
    "colab": {
     "autoexec": {
      "startup": false,
      "wait_interval": 0
     }
    },
    "colab_type": "code",
    "id": "WOdqoaTkLNCe"
   },
   "outputs": [],
   "source": [
    "model.compile(optimizer='adam', loss='mse', metrics=['mae'])"
   ]
  },
  {
   "cell_type": "markdown",
   "metadata": {
    "colab_type": "text",
    "id": "cuE2Ekt1LeUW"
   },
   "source": [
    "## Обучаем нейронную сеть"
   ]
  },
  {
   "cell_type": "code",
   "execution_count": 8,
   "metadata": {
    "colab": {
     "autoexec": {
      "startup": false,
      "wait_interval": 0
     },
     "base_uri": "https://localhost:8080/",
     "height": 3508
    },
    "colab_type": "code",
    "executionInfo": {
     "elapsed": 51550,
     "status": "ok",
     "timestamp": 1521104916631,
     "user": {
      "displayName": "Andrey Sozykin",
      "photoUrl": "//lh5.googleusercontent.com/-ErNH158Vx74/AAAAAAAAAAI/AAAAAAAAALA/FLh7rOkXgJs/s50-c-k-no/photo.jpg",
      "userId": "101492825683836041366"
     },
     "user_tz": -300
    },
    "id": "1EcFPWZcLmRl",
    "outputId": "d669336f-5973-4b5f-9efb-ffc3d98c72ab"
   },
   "outputs": [
    {
     "name": "stdout",
     "output_type": "stream",
     "text": [
      "Epoch 1/100\n",
      " - 0s - loss: 301.0857 - mean_absolute_error: 14.6313\n",
      "Epoch 2/100\n",
      " - 0s - loss: 39.0260 - mean_absolute_error: 4.2673\n",
      "Epoch 3/100\n",
      " - 0s - loss: 24.8700 - mean_absolute_error: 3.4080\n",
      "Epoch 4/100\n",
      " - 0s - loss: 21.0563 - mean_absolute_error: 3.2408\n",
      "Epoch 5/100\n",
      " - 0s - loss: 18.3180 - mean_absolute_error: 3.0841\n",
      "Epoch 6/100\n",
      " - 0s - loss: 15.9166 - mean_absolute_error: 2.8362\n",
      "Epoch 7/100\n",
      " - 0s - loss: 14.0394 - mean_absolute_error: 2.6600\n",
      "Epoch 8/100\n",
      " - 0s - loss: 12.4550 - mean_absolute_error: 2.5107\n",
      "Epoch 9/100\n",
      " - 0s - loss: 11.4246 - mean_absolute_error: 2.3419\n",
      "Epoch 10/100\n",
      " - 0s - loss: 10.7471 - mean_absolute_error: 2.3261\n",
      "Epoch 11/100\n",
      " - 0s - loss: 10.4070 - mean_absolute_error: 2.2467\n",
      "Epoch 12/100\n",
      " - 0s - loss: 9.9869 - mean_absolute_error: 2.2289\n",
      "Epoch 13/100\n",
      " - 0s - loss: 9.3971 - mean_absolute_error: 2.1363\n",
      "Epoch 14/100\n",
      " - 0s - loss: 9.1684 - mean_absolute_error: 2.1199\n",
      "Epoch 15/100\n",
      " - 0s - loss: 8.9669 - mean_absolute_error: 2.1547\n",
      "Epoch 16/100\n",
      " - 0s - loss: 8.6875 - mean_absolute_error: 2.1271\n",
      "Epoch 17/100\n",
      " - 0s - loss: 8.7026 - mean_absolute_error: 2.1068\n",
      "Epoch 18/100\n",
      " - 0s - loss: 8.4449 - mean_absolute_error: 2.0457\n",
      "Epoch 19/100\n",
      " - 0s - loss: 8.4106 - mean_absolute_error: 2.0337\n",
      "Epoch 20/100\n",
      " - 0s - loss: 8.0455 - mean_absolute_error: 1.9867\n",
      "Epoch 21/100\n",
      " - 0s - loss: 8.0168 - mean_absolute_error: 1.9902\n",
      "Epoch 22/100\n",
      " - 0s - loss: 7.8122 - mean_absolute_error: 1.9813\n",
      "Epoch 23/100\n",
      " - 0s - loss: 7.4617 - mean_absolute_error: 1.9156\n",
      "Epoch 24/100\n",
      " - 0s - loss: 7.8291 - mean_absolute_error: 1.9776\n",
      "Epoch 25/100\n",
      " - 0s - loss: 7.6410 - mean_absolute_error: 1.9268\n",
      "Epoch 26/100\n",
      " - 0s - loss: 7.3548 - mean_absolute_error: 1.9106\n",
      "Epoch 27/100\n",
      " - 0s - loss: 7.2842 - mean_absolute_error: 1.9182\n",
      "Epoch 28/100\n",
      " - 0s - loss: 7.1186 - mean_absolute_error: 1.8718\n",
      "Epoch 29/100\n",
      " - 0s - loss: 7.2773 - mean_absolute_error: 1.8970\n",
      "Epoch 30/100\n",
      " - 0s - loss: 6.8799 - mean_absolute_error: 1.8656\n",
      "Epoch 31/100\n",
      " - 0s - loss: 6.9536 - mean_absolute_error: 1.8487\n",
      "Epoch 32/100\n",
      " - 0s - loss: 6.7113 - mean_absolute_error: 1.8363\n",
      "Epoch 33/100\n",
      " - 0s - loss: 6.6493 - mean_absolute_error: 1.8389\n",
      "Epoch 34/100\n",
      " - 0s - loss: 6.8683 - mean_absolute_error: 1.8593\n",
      "Epoch 35/100\n",
      " - 0s - loss: 6.6148 - mean_absolute_error: 1.7856\n",
      "Epoch 36/100\n",
      " - 0s - loss: 6.2910 - mean_absolute_error: 1.7789\n",
      "Epoch 37/100\n",
      " - 0s - loss: 6.5850 - mean_absolute_error: 1.7995\n",
      "Epoch 38/100\n",
      " - 0s - loss: 6.4785 - mean_absolute_error: 1.7926\n",
      "Epoch 39/100\n",
      " - 0s - loss: 6.3186 - mean_absolute_error: 1.8005\n",
      "Epoch 40/100\n",
      " - 0s - loss: 6.0746 - mean_absolute_error: 1.7578\n",
      "Epoch 41/100\n",
      " - 0s - loss: 6.0557 - mean_absolute_error: 1.7401\n",
      "Epoch 42/100\n",
      " - 0s - loss: 5.9933 - mean_absolute_error: 1.7308\n",
      "Epoch 43/100\n",
      " - 0s - loss: 6.1299 - mean_absolute_error: 1.7825\n",
      "Epoch 44/100\n",
      " - 0s - loss: 5.9438 - mean_absolute_error: 1.7035\n",
      "Epoch 45/100\n",
      " - 0s - loss: 5.9501 - mean_absolute_error: 1.7322\n",
      "Epoch 46/100\n",
      " - 0s - loss: 5.7658 - mean_absolute_error: 1.6761\n",
      "Epoch 47/100\n",
      " - 0s - loss: 5.9557 - mean_absolute_error: 1.6871\n",
      "Epoch 48/100\n",
      " - 0s - loss: 5.7666 - mean_absolute_error: 1.6777\n",
      "Epoch 49/100\n",
      " - 0s - loss: 5.6450 - mean_absolute_error: 1.6627\n",
      "Epoch 50/100\n",
      " - 0s - loss: 5.8535 - mean_absolute_error: 1.7319\n",
      "Epoch 51/100\n",
      " - 0s - loss: 5.4348 - mean_absolute_error: 1.6720\n",
      "Epoch 52/100\n",
      " - 0s - loss: 5.5917 - mean_absolute_error: 1.6882\n",
      "Epoch 53/100\n",
      " - 0s - loss: 5.6547 - mean_absolute_error: 1.6766\n",
      "Epoch 54/100\n",
      " - 0s - loss: 5.4371 - mean_absolute_error: 1.6299\n",
      "Epoch 55/100\n",
      " - 0s - loss: 5.4844 - mean_absolute_error: 1.6520\n",
      "Epoch 56/100\n",
      " - 0s - loss: 5.2630 - mean_absolute_error: 1.6213\n",
      "Epoch 57/100\n",
      " - 0s - loss: 5.3914 - mean_absolute_error: 1.6534\n",
      "Epoch 58/100\n",
      " - 0s - loss: 5.1097 - mean_absolute_error: 1.5783\n",
      "Epoch 59/100\n",
      " - 0s - loss: 5.3847 - mean_absolute_error: 1.6455\n",
      "Epoch 60/100\n",
      " - 0s - loss: 5.1833 - mean_absolute_error: 1.5993\n",
      "Epoch 61/100\n",
      " - 0s - loss: 5.0720 - mean_absolute_error: 1.6037\n",
      "Epoch 62/100\n",
      " - 0s - loss: 5.1882 - mean_absolute_error: 1.6108\n",
      "Epoch 63/100\n",
      " - 0s - loss: 5.1440 - mean_absolute_error: 1.6238\n",
      "Epoch 64/100\n",
      " - 0s - loss: 4.9989 - mean_absolute_error: 1.6148\n",
      "Epoch 65/100\n",
      " - 0s - loss: 4.9305 - mean_absolute_error: 1.5687\n",
      "Epoch 66/100\n",
      " - 0s - loss: 5.1330 - mean_absolute_error: 1.6045\n",
      "Epoch 67/100\n",
      " - 0s - loss: 4.8452 - mean_absolute_error: 1.5596\n",
      "Epoch 68/100\n",
      " - 0s - loss: 4.8260 - mean_absolute_error: 1.5488\n",
      "Epoch 69/100\n",
      " - 0s - loss: 4.8547 - mean_absolute_error: 1.5695\n",
      "Epoch 70/100\n",
      " - 0s - loss: 4.8570 - mean_absolute_error: 1.5501\n",
      "Epoch 71/100\n",
      " - 0s - loss: 4.7611 - mean_absolute_error: 1.5459\n",
      "Epoch 72/100\n",
      " - 0s - loss: 4.6429 - mean_absolute_error: 1.5133\n",
      "Epoch 73/100\n",
      " - 0s - loss: 4.6634 - mean_absolute_error: 1.5560\n",
      "Epoch 74/100\n",
      " - 0s - loss: 4.4864 - mean_absolute_error: 1.5230\n",
      "Epoch 75/100\n",
      " - 0s - loss: 4.6714 - mean_absolute_error: 1.5244\n",
      "Epoch 76/100\n",
      " - 0s - loss: 4.6390 - mean_absolute_error: 1.5483\n",
      "Epoch 77/100\n",
      " - 0s - loss: 4.3744 - mean_absolute_error: 1.4708\n",
      "Epoch 78/100\n",
      " - 0s - loss: 4.2668 - mean_absolute_error: 1.4676\n",
      "Epoch 79/100\n",
      " - 0s - loss: 4.4822 - mean_absolute_error: 1.5422\n",
      "Epoch 80/100\n",
      " - 0s - loss: 4.4077 - mean_absolute_error: 1.5153\n",
      "Epoch 81/100\n",
      " - 0s - loss: 4.3975 - mean_absolute_error: 1.4494\n",
      "Epoch 82/100\n",
      " - 0s - loss: 4.4040 - mean_absolute_error: 1.4827\n",
      "Epoch 83/100\n",
      " - 0s - loss: 4.3971 - mean_absolute_error: 1.5126\n",
      "Epoch 84/100\n",
      " - 0s - loss: 4.3481 - mean_absolute_error: 1.4790\n",
      "Epoch 85/100\n",
      " - 0s - loss: 4.2002 - mean_absolute_error: 1.4700\n",
      "Epoch 86/100\n",
      " - 0s - loss: 4.3957 - mean_absolute_error: 1.5032\n",
      "Epoch 87/100\n",
      " - 0s - loss: 4.1800 - mean_absolute_error: 1.4616\n",
      "Epoch 88/100\n",
      " - 0s - loss: 4.3007 - mean_absolute_error: 1.4764\n",
      "Epoch 89/100\n",
      " - 0s - loss: 4.1636 - mean_absolute_error: 1.4526\n",
      "Epoch 90/100\n",
      " - 0s - loss: 4.1448 - mean_absolute_error: 1.4489\n",
      "Epoch 91/100\n",
      " - 0s - loss: 4.0493 - mean_absolute_error: 1.3910\n",
      "Epoch 92/100\n",
      " - 0s - loss: 4.0228 - mean_absolute_error: 1.4268\n",
      "Epoch 93/100\n",
      " - 0s - loss: 4.1293 - mean_absolute_error: 1.4325\n",
      "Epoch 94/100\n",
      " - 0s - loss: 4.0088 - mean_absolute_error: 1.4505\n",
      "Epoch 95/100\n",
      " - 0s - loss: 3.9415 - mean_absolute_error: 1.3982\n",
      "Epoch 96/100\n",
      " - 0s - loss: 3.9890 - mean_absolute_error: 1.4460\n",
      "Epoch 97/100\n",
      " - 0s - loss: 3.9887 - mean_absolute_error: 1.4525\n",
      "Epoch 98/100\n",
      " - 0s - loss: 3.8517 - mean_absolute_error: 1.3940\n",
      "Epoch 99/100\n",
      " - 0s - loss: 3.8678 - mean_absolute_error: 1.4018\n",
      "Epoch 100/100\n",
      " - 0s - loss: 3.9763 - mean_absolute_error: 1.4152\n"
     ]
    },
    {
     "data": {
      "text/plain": [
       "<tensorflow.python.keras._impl.keras.callbacks.History at 0x7fe7ede95b38>"
      ]
     },
     "execution_count": 8,
     "metadata": {
      "tags": []
     },
     "output_type": "execute_result"
    }
   ],
   "source": [
    "model.fit(x_train, y_train, epochs=100, batch_size=1, verbose=2)"
   ]
  },
  {
   "cell_type": "markdown",
   "metadata": {
    "colab_type": "text",
    "id": "UDHMw_dEH7_0"
   },
   "source": [
    "## Используем модель для предсказаний"
   ]
  },
  {
   "cell_type": "markdown",
   "metadata": {
    "colab_type": "text",
    "id": "pHOIK7qaOns1"
   },
   "source": [
    "**Выполняем предсказание для тестовой выборки**"
   ]
  },
  {
   "cell_type": "code",
   "execution_count": 0,
   "metadata": {
    "colab": {
     "autoexec": {
      "startup": false,
      "wait_interval": 0
     }
    },
    "colab_type": "code",
    "id": "5LYrptorOjPe"
   },
   "outputs": [],
   "source": [
    "pred = model.predict(x_test)"
   ]
  },
  {
   "cell_type": "code",
   "execution_count": 10,
   "metadata": {
    "colab": {
     "autoexec": {
      "startup": false,
      "wait_interval": 0
     },
     "base_uri": "https://localhost:8080/",
     "height": 1789
    },
    "colab_type": "code",
    "executionInfo": {
     "elapsed": 592,
     "status": "ok",
     "timestamp": 1521105014946,
     "user": {
      "displayName": "Andrey Sozykin",
      "photoUrl": "//lh5.googleusercontent.com/-ErNH158Vx74/AAAAAAAAAAI/AAAAAAAAALA/FLh7rOkXgJs/s50-c-k-no/photo.jpg",
      "userId": "101492825683836041366"
     },
     "user_tz": -300
    },
    "id": "_D55LA1i7E4J",
    "outputId": "3abf8744-d86e-4048-cd83-5467dc73ef5c"
   },
   "outputs": [
    {
     "name": "stdout",
     "output_type": "stream",
     "text": [
      "[[ 7.9156375]\n",
      " [18.517355 ]\n",
      " [21.473919 ]\n",
      " [36.436028 ]\n",
      " [24.829937 ]\n",
      " [22.902275 ]\n",
      " [29.007824 ]\n",
      " [22.29243  ]\n",
      " [19.569313 ]\n",
      " [21.627377 ]\n",
      " [19.356878 ]\n",
      " [16.252838 ]\n",
      " [16.098612 ]\n",
      " [43.98508  ]\n",
      " [21.149382 ]\n",
      " [20.69042  ]\n",
      " [24.424442 ]\n",
      " [19.05316  ]\n",
      " [18.294167 ]\n",
      " [21.578947 ]\n",
      " [12.069986 ]\n",
      " [10.816734 ]\n",
      " [22.566948 ]\n",
      " [15.652369 ]\n",
      " [19.003357 ]\n",
      " [23.383394 ]\n",
      " [29.554083 ]\n",
      " [28.550753 ]\n",
      " [11.586207 ]\n",
      " [19.17446  ]\n",
      " [20.149523 ]\n",
      " [14.611028 ]\n",
      " [35.267185 ]\n",
      " [22.77338  ]\n",
      " [18.210936 ]\n",
      " [ 7.8321595]\n",
      " [18.817616 ]\n",
      " [16.326122 ]\n",
      " [20.46577  ]\n",
      " [26.558338 ]\n",
      " [30.40025  ]\n",
      " [27.10923  ]\n",
      " [13.027924 ]\n",
      " [46.267647 ]\n",
      " [29.372335 ]\n",
      " [27.30337  ]\n",
      " [28.005302 ]\n",
      " [19.556496 ]\n",
      " [22.674603 ]\n",
      " [23.651356 ]\n",
      " [35.59658  ]\n",
      " [17.996614 ]\n",
      " [10.870857 ]\n",
      " [13.753483 ]\n",
      " [36.68287  ]\n",
      " [28.52307  ]\n",
      " [11.533207 ]\n",
      " [51.656433 ]\n",
      " [36.64217  ]\n",
      " [23.818796 ]\n",
      " [24.923138 ]\n",
      " [16.072979 ]\n",
      " [15.863628 ]\n",
      " [20.308762 ]\n",
      " [24.468533 ]\n",
      " [19.860895 ]\n",
      " [13.831776 ]\n",
      " [21.412586 ]\n",
      " [12.590843 ]\n",
      " [ 7.5460253]\n",
      " [20.832867 ]\n",
      " [29.46676  ]\n",
      " [24.813036 ]\n",
      " [12.307543 ]\n",
      " [26.48876  ]\n",
      " [18.730293 ]\n",
      " [18.734978 ]\n",
      " [25.382568 ]\n",
      " [36.575195 ]\n",
      " [10.477863 ]\n",
      " [22.464205 ]\n",
      " [39.5853   ]\n",
      " [15.363625 ]\n",
      " [13.059018 ]\n",
      " [17.95197  ]\n",
      " [17.524942 ]\n",
      " [23.165955 ]\n",
      " [21.65865  ]\n",
      " [22.35868  ]\n",
      " [29.890781 ]\n",
      " [20.709232 ]\n",
      " [19.569973 ]\n",
      " [27.029133 ]\n",
      " [42.907112 ]\n",
      " [37.345184 ]\n",
      " [22.109669 ]\n",
      " [36.50441  ]\n",
      " [44.28618  ]\n",
      " [25.38861  ]\n",
      " [49.39553  ]\n",
      " [30.227917 ]\n",
      " [19.573717 ]]\n"
     ]
    }
   ],
   "source": [
    "print(pred)"
   ]
  },
  {
   "cell_type": "markdown",
   "metadata": {
    "colab_type": "text",
    "id": "TTw_JA5TOiYF"
   },
   "source": [
    "**Печатаем примеры результатов**"
   ]
  },
  {
   "cell_type": "code",
   "execution_count": 13,
   "metadata": {
    "colab": {
     "autoexec": {
      "startup": false,
      "wait_interval": 0
     },
     "base_uri": "https://localhost:8080/",
     "height": 34
    },
    "colab_type": "code",
    "executionInfo": {
     "elapsed": 587,
     "status": "ok",
     "timestamp": 1521105074739,
     "user": {
      "displayName": "Andrey Sozykin",
      "photoUrl": "//lh5.googleusercontent.com/-ErNH158Vx74/AAAAAAAAAAI/AAAAAAAAALA/FLh7rOkXgJs/s50-c-k-no/photo.jpg",
      "userId": "101492825683836041366"
     },
     "user_tz": -300
    },
    "id": "L5KdJducOuwt",
    "outputId": "5343d393-7fe8-40cb-ca57-607438b82e6f"
   },
   "outputs": [
    {
     "name": "stdout",
     "output_type": "stream",
     "text": [
      "Предсказанная стоимость: 22.29243 , правильная стоимость: 22.9\n"
     ]
    }
   ],
   "source": [
    "test_index=7\n",
    "print(\"Предсказанная стоимость:\", pred[test_index][0], \", правильная стоимость:\", y_test[test_index])"
   ]
  }
 ],
 "metadata": {
  "colab": {
   "default_view": {},
   "name": "bostonhp.ipynb",
   "provenance": [],
   "version": "0.3.2",
   "views": {}
  },
  "kernelspec": {
   "display_name": "Python 3",
   "language": "python",
   "name": "python3"
  },
  "language_info": {
   "codemirror_mode": {
    "name": "ipython",
    "version": 3
   },
   "file_extension": ".py",
   "mimetype": "text/x-python",
   "name": "python",
   "nbconvert_exporter": "python",
   "pygments_lexer": "ipython3",
   "version": "3.6.6"
  }
 },
 "nbformat": 4,
 "nbformat_minor": 1
}
