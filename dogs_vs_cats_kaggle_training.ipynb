{
 "cells": [
  {
   "cell_type": "code",
   "execution_count": 1,
   "metadata": {},
   "outputs": [
    {
     "name": "stderr",
     "output_type": "stream",
     "text": [
      "Using TensorFlow backend.\n"
     ]
    }
   ],
   "source": [
    "from keras.preprocessing.image import ImageDataGenerator\n",
    "from keras.models import Sequential\n",
    "from keras.layers import Conv2D, MaxPooling2D\n",
    "from keras.layers import Activation, Dropout, Flatten, Dense"
   ]
  },
  {
   "cell_type": "code",
   "execution_count": 2,
   "metadata": {},
   "outputs": [],
   "source": [
    "# Каталог с данными для обучения\n",
    "train_dir = 'data/dogs_vs_cats/train'\n",
    "# Каталог с данными для проверки\n",
    "val_dir = 'data/dogs_vs_cats/val'\n",
    "# Каталог с данными для тестирования\n",
    "test_dir = 'data/dogs_vs_cats/test'\n",
    "\n",
    "# Размеры изображения\n",
    "img_width, img_height = 150, 150\n",
    "# Размерность тензора на основе изображения для входных данных в нейронную сеть\n",
    "# backend Tensorflow, channels_last\n",
    "input_shape = (img_width, img_height, 3)\n",
    "# Количество эпох\n",
    "epochs = 10\n",
    "# Размер мини-выборки\n",
    "batch_size = 16\n",
    "# Количество изображений для обучения\n",
    "nb_train_samples = 17500\n",
    "# Количество изображений для проверки\n",
    "nb_validation_samples = 3750\n",
    "# Количество изображений для тестирования\n",
    "nb_test_samples = 3750"
   ]
  },
  {
   "cell_type": "markdown",
   "metadata": {},
   "source": [
    "## Создаем сверточную нейронную сеть\n",
    "**Архитектура сети**\n",
    "\n",
    "Слой свертки, размер ядра 3х3, количество карт признаков - 32 шт., функция активации ReLU.\n",
    "Слой подвыборки, выбор максимального значения из квадрата 2х2\n",
    "\n",
    "Слой свертки, размер ядра 3х3, количество карт признаков - 32 шт., функция активации ReLU.\n",
    "Слой подвыборки, выбор максимального значения из квадрата 2х2\n",
    "\n",
    "Слой свертки, размер ядра 3х3, количество карт признаков - 64 шт., функция активации ReLU.\n",
    "Слой подвыборки, выбор максимального значения из квадрата 2х2\n",
    "\n",
    "Слой преобразования из двумерного в одномерное представление\n",
    "\n",
    "Полносвязный слой, 64 нейрона, функция активации ReLU.\n",
    "Слой Dropout.\n",
    "\n",
    "Выходной слой, 1 нейрон, функция активации sigmoid\n",
    "Слои с 1 по 6 используются для выделения важных признаков в изображении, а слои с 7 по 10 - для классификации."
   ]
  },
  {
   "cell_type": "code",
   "execution_count": 3,
   "metadata": {},
   "outputs": [],
   "source": [
    "model = Sequential()\n",
    "\n",
    "model.add(Conv2D(32, (3, 3), input_shape=input_shape))\n",
    "model.add(Activation('relu'))\n",
    "model.add(MaxPooling2D(pool_size=(2, 2)))\n",
    "\n",
    "model.add(Conv2D(32, (3, 3)))\n",
    "model.add(Activation('relu'))\n",
    "model.add(MaxPooling2D(pool_size=(2, 2)))\n",
    "\n",
    "model.add(Conv2D(64, (3, 3)))\n",
    "model.add(Activation('relu'))\n",
    "model.add(MaxPooling2D(pool_size=(2, 2)))\n",
    "\n",
    "model.add(Flatten())\n",
    "model.add(Dense(64))\n",
    "model.add(Activation('relu'))\n",
    "model.add(Dropout(0.5))\n",
    "model.add(Dense(1))\n",
    "model.add(Activation('sigmoid'))"
   ]
  },
  {
   "cell_type": "code",
   "execution_count": 4,
   "metadata": {},
   "outputs": [],
   "source": [
    "model.compile(loss=['binary_crossentropy'],\n",
    "             optimizer='adam',\n",
    "             metrics=['accuracy'])"
   ]
  },
  {
   "cell_type": "markdown",
   "metadata": {},
   "source": [
    "### Создаем генератор изображений\n",
    "Генератор изображений создается на основе класса ImageDataGenerator. Генератор делит значения всех пикселов изображения на 255."
   ]
  },
  {
   "cell_type": "code",
   "execution_count": 5,
   "metadata": {},
   "outputs": [],
   "source": [
    "datagen = ImageDataGenerator(rescale=1. / 255)"
   ]
  },
  {
   "cell_type": "markdown",
   "metadata": {},
   "source": [
    "Генератор данных для обучения на основе изображений из каталога"
   ]
  },
  {
   "cell_type": "code",
   "execution_count": 6,
   "metadata": {},
   "outputs": [
    {
     "name": "stdout",
     "output_type": "stream",
     "text": [
      "Found 17500 images belonging to 2 classes.\n"
     ]
    }
   ],
   "source": [
    "train_generator = datagen.flow_from_directory(\n",
    "    train_dir, \n",
    "    target_size=(img_width, img_height),\n",
    "    batch_size=batch_size,\n",
    "    class_mode='binary') # or categorical"
   ]
  },
  {
   "cell_type": "code",
   "execution_count": 7,
   "metadata": {},
   "outputs": [
    {
     "name": "stdout",
     "output_type": "stream",
     "text": [
      "Found 3750 images belonging to 2 classes.\n"
     ]
    }
   ],
   "source": [
    "test_generator = datagen.flow_from_directory(\n",
    "    test_dir, \n",
    "    target_size=(img_width, img_height),\n",
    "    batch_size=batch_size,\n",
    "    class_mode='binary') # or categorical"
   ]
  },
  {
   "cell_type": "code",
   "execution_count": 8,
   "metadata": {},
   "outputs": [
    {
     "name": "stdout",
     "output_type": "stream",
     "text": [
      "Found 3750 images belonging to 2 classes.\n"
     ]
    }
   ],
   "source": [
    "valid_generator = datagen.flow_from_directory(\n",
    "    val_dir, \n",
    "    target_size=(img_width, img_height),\n",
    "    batch_size=batch_size,\n",
    "    class_mode='binary') # or categorical"
   ]
  },
  {
   "cell_type": "markdown",
   "metadata": {},
   "source": [
    "## Обучаем модель с использованием генераторов\n",
    "train_generator - генератор данных для обучения\n",
    "\n",
    "validation_data - генератор данных для проверки"
   ]
  },
  {
   "cell_type": "code",
   "execution_count": 9,
   "metadata": {},
   "outputs": [
    {
     "name": "stdout",
     "output_type": "stream",
     "text": [
      "Epoch 1/10\n",
      "1093/1093 [==============================] - 164s 150ms/step - loss: 0.6232 - acc: 0.6463 - val_loss: 0.5291 - val_acc: 0.7353\n",
      "Epoch 2/10\n",
      "1093/1093 [==============================] - 161s 147ms/step - loss: 0.5337 - acc: 0.7302 - val_loss: 0.5021 - val_acc: 0.7544\n",
      "Epoch 3/10\n",
      "1093/1093 [==============================] - 161s 147ms/step - loss: 0.4760 - acc: 0.7711 - val_loss: 0.4618 - val_acc: 0.7804\n",
      "Epoch 4/10\n",
      "1093/1093 [==============================] - 161s 148ms/step - loss: 0.4289 - acc: 0.8053 - val_loss: 0.4292 - val_acc: 0.7938\n",
      "Epoch 5/10\n",
      "1093/1093 [==============================] - 161s 148ms/step - loss: 0.3820 - acc: 0.8303 - val_loss: 0.4016 - val_acc: 0.8200\n",
      "Epoch 6/10\n",
      "1093/1093 [==============================] - 162s 148ms/step - loss: 0.3305 - acc: 0.8614 - val_loss: 0.4144 - val_acc: 0.8141\n",
      "Epoch 7/10\n",
      "1093/1093 [==============================] - 161s 147ms/step - loss: 0.2866 - acc: 0.8783 - val_loss: 0.3908 - val_acc: 0.8345\n",
      "Epoch 8/10\n",
      "1093/1093 [==============================] - 161s 147ms/step - loss: 0.2385 - acc: 0.9015 - val_loss: 0.4228 - val_acc: 0.8291\n",
      "Epoch 9/10\n",
      "1093/1093 [==============================] - 160s 146ms/step - loss: 0.1976 - acc: 0.9177 - val_loss: 0.4694 - val_acc: 0.8235\n",
      "Epoch 10/10\n",
      "1093/1093 [==============================] - 156s 142ms/step - loss: 0.1643 - acc: 0.9316 - val_loss: 0.5046 - val_acc: 0.8369\n"
     ]
    },
    {
     "data": {
      "text/plain": [
       "<keras.callbacks.History at 0x194c643b5c0>"
      ]
     },
     "execution_count": 9,
     "metadata": {},
     "output_type": "execute_result"
    }
   ],
   "source": [
    "model.fit_generator(\n",
    "    train_generator,\n",
    "    steps_per_epoch=nb_train_samples // batch_size,\n",
    "    epochs=epochs,\n",
    "    validation_data=valid_generator,\n",
    "    validation_steps=nb_validation_samples // batch_size)"
   ]
  },
  {
   "cell_type": "code",
   "execution_count": 10,
   "metadata": {},
   "outputs": [
    {
     "name": "stdout",
     "output_type": "stream",
     "text": [
      "Точность на тестовых данных: 83.87%\n"
     ]
    }
   ],
   "source": [
    "scores = model.evaluate_generator(test_generator, nb_test_samples // batch_size)\n",
    "\n",
    "print(\"Точность на тестовых данных: %.2f%%\" % (scores[1]*100))"
   ]
  },
  {
   "cell_type": "code",
   "execution_count": 11,
   "metadata": {},
   "outputs": [],
   "source": [
    "model_json = model.to_json()\n",
    "with open(\"Results/dogs_vs_cats_model.json\", \"w\") as f:\n",
    "    f.write(model_json)\n",
    "\n",
    "model.save_weights(\"Results/dogs_vs_cats_model.h5\")"
   ]
  },
  {
   "cell_type": "code",
   "execution_count": null,
   "metadata": {},
   "outputs": [],
   "source": []
  }
 ],
 "metadata": {
  "kernelspec": {
   "display_name": "Python 3",
   "language": "python",
   "name": "python3"
  },
  "language_info": {
   "codemirror_mode": {
    "name": "ipython",
    "version": 3
   },
   "file_extension": ".py",
   "mimetype": "text/x-python",
   "name": "python",
   "nbconvert_exporter": "python",
   "pygments_lexer": "ipython3",
   "version": "3.6.6"
  }
 },
 "nbformat": 4,
 "nbformat_minor": 2
}
