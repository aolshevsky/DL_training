{
 "cells": [
  {
   "cell_type": "markdown",
   "metadata": {
    "colab_type": "text",
    "id": "ewWpV2e6T92A"
   },
   "source": [
    "# Определение тональности отзывов на фильмы в базе IMDB\n",
    "\n",
    "Пример из курса [\"Программирование глубоких нейронных сетей на Python\"](https://www.asozykin.ru/courses/nnpython).\n",
    "\n",
    "Чтобы запускать и редактировать код, сохраните копию этого ноутбука себе (File->Save a copy in Drive...). Свою копию вы сможете изменять и запускать."
   ]
  },
  {
   "cell_type": "code",
   "execution_count": 1,
   "metadata": {
    "colab": {
     "autoexec": {
      "startup": false,
      "wait_interval": 0
     },
     "base_uri": "https://localhost:8080/",
     "height": 34
    },
    "colab_type": "code",
    "executionInfo": {
     "elapsed": 8172,
     "status": "ok",
     "timestamp": 1523208768588,
     "user": {
      "displayName": "Andrey Sozykin",
      "photoUrl": "//lh5.googleusercontent.com/-ErNH158Vx74/AAAAAAAAAAI/AAAAAAAAALA/FLh7rOkXgJs/s50-c-k-no/photo.jpg",
      "userId": "101492825683836041366"
     },
     "user_tz": -300
    },
    "id": "e9U49Am5T28P",
    "outputId": "ec93d964-8525-4f55-c615-405b482c22e4"
   },
   "outputs": [
    {
     "name": "stderr",
     "output_type": "stream",
     "text": [
      "Using TensorFlow backend.\n"
     ]
    }
   ],
   "source": [
    "import numpy as np\n",
    "from keras.preprocessing import sequence\n",
    "from keras.models import Sequential\n",
    "from keras.layers import Dense, Activation, Embedding\n",
    "from keras.layers import LSTM, SpatialDropout1D\n",
    "from keras.datasets import imdb"
   ]
  },
  {
   "cell_type": "code",
   "execution_count": 0,
   "metadata": {
    "colab": {
     "autoexec": {
      "startup": false,
      "wait_interval": 0
     }
    },
    "colab_type": "code",
    "id": "wK2d5o_zUaDP"
   },
   "outputs": [],
   "source": [
    "# Максимальное количество слов (по частоте использования)\n",
    "max_features = 5000\n",
    "# Максимальная длина рецензии в словах\n",
    "maxlen = 80"
   ]
  },
  {
   "cell_type": "markdown",
   "metadata": {
    "colab_type": "text",
    "id": "gdz00eL0Ubzf"
   },
   "source": [
    "## Загружаем данные"
   ]
  },
  {
   "cell_type": "code",
   "execution_count": 3,
   "metadata": {
    "colab": {
     "autoexec": {
      "startup": false,
      "wait_interval": 0
     },
     "base_uri": "https://localhost:8080/",
     "height": 52
    },
    "colab_type": "code",
    "executionInfo": {
     "elapsed": 6489,
     "status": "ok",
     "timestamp": 1523208826872,
     "user": {
      "displayName": "Andrey Sozykin",
      "photoUrl": "//lh5.googleusercontent.com/-ErNH158Vx74/AAAAAAAAAAI/AAAAAAAAALA/FLh7rOkXgJs/s50-c-k-no/photo.jpg",
      "userId": "101492825683836041366"
     },
     "user_tz": -300
    },
    "id": "YPKA8s4hUfM_",
    "outputId": "1d113ce9-b34e-42ae-fefa-85544c561b87"
   },
   "outputs": [
    {
     "name": "stdout",
     "output_type": "stream",
     "text": [
      "Downloading data from https://s3.amazonaws.com/text-datasets/imdb.npz\n",
      "17465344/17464789 [==============================] - 1s 0us/step\n"
     ]
    }
   ],
   "source": [
    "(X_train, y_train), (X_test, y_test) = imdb.load_data(num_words=max_features)"
   ]
  },
  {
   "cell_type": "markdown",
   "metadata": {
    "colab_type": "text",
    "id": "16iRnCofUmmP"
   },
   "source": [
    "## Предварительная обработка рецензий"
   ]
  },
  {
   "cell_type": "code",
   "execution_count": 0,
   "metadata": {
    "colab": {
     "autoexec": {
      "startup": false,
      "wait_interval": 0
     }
    },
    "colab_type": "code",
    "id": "hXf6iAQfUqmP"
   },
   "outputs": [],
   "source": [
    "X_train = sequence.pad_sequences(X_train, maxlen=maxlen)\n",
    "X_test = sequence.pad_sequences(X_test, maxlen=maxlen)"
   ]
  },
  {
   "cell_type": "markdown",
   "metadata": {
    "colab_type": "text",
    "id": "lRI3Q47wUus_"
   },
   "source": [
    "## Создаем нейронную сеть"
   ]
  },
  {
   "cell_type": "code",
   "execution_count": 0,
   "metadata": {
    "colab": {
     "autoexec": {
      "startup": false,
      "wait_interval": 0
     }
    },
    "colab_type": "code",
    "id": "bfc88FSTUxzQ"
   },
   "outputs": [],
   "source": [
    "model = Sequential()\n",
    "# Слой для векторного представления слов\n",
    "model.add(Embedding(max_features, 32))\n",
    "model.add(SpatialDropout1D(0.2))\n",
    "# Слой долго-краткосрочной памяти\n",
    "model.add(LSTM(100, dropout=0.2, recurrent_dropout=0.2)) \n",
    "# Полносвязный слой\n",
    "model.add(Dense(1, activation=\"sigmoid\"))"
   ]
  },
  {
   "cell_type": "markdown",
   "metadata": {
    "colab_type": "text",
    "id": "wpsP4ZqRU-NK"
   },
   "source": [
    "**Печаем информацию о сети**"
   ]
  },
  {
   "cell_type": "code",
   "execution_count": 11,
   "metadata": {
    "colab": {
     "autoexec": {
      "startup": false,
      "wait_interval": 0
     },
     "base_uri": "https://localhost:8080/",
     "height": 294
    },
    "colab_type": "code",
    "executionInfo": {
     "elapsed": 715,
     "status": "ok",
     "timestamp": 1523209935922,
     "user": {
      "displayName": "Andrey Sozykin",
      "photoUrl": "//lh5.googleusercontent.com/-ErNH158Vx74/AAAAAAAAAAI/AAAAAAAAALA/FLh7rOkXgJs/s50-c-k-no/photo.jpg",
      "userId": "101492825683836041366"
     },
     "user_tz": -300
    },
    "id": "c1a5VOeRVCGv",
    "outputId": "751b3907-11fc-46e8-c4cf-29ee6ed01fa5"
   },
   "outputs": [
    {
     "name": "stdout",
     "output_type": "stream",
     "text": [
      "_________________________________________________________________\n",
      "Layer (type)                 Output Shape              Param #   \n",
      "=================================================================\n",
      "embedding_2 (Embedding)      (None, None, 32)          160000    \n",
      "_________________________________________________________________\n",
      "spatial_dropout1d_2 (Spatial (None, None, 32)          0         \n",
      "_________________________________________________________________\n",
      "lstm_2 (LSTM)                (None, 100)               53200     \n",
      "_________________________________________________________________\n",
      "dense_2 (Dense)              (None, 1)                 101       \n",
      "=================================================================\n",
      "Total params: 213,301\n",
      "Trainable params: 213,301\n",
      "Non-trainable params: 0\n",
      "_________________________________________________________________\n",
      "None\n"
     ]
    }
   ],
   "source": [
    "print(model.summary())"
   ]
  },
  {
   "cell_type": "markdown",
   "metadata": {
    "colab_type": "text",
    "id": "Dj3SqgmVVJRo"
   },
   "source": [
    "**Компилируем модель**"
   ]
  },
  {
   "cell_type": "code",
   "execution_count": 0,
   "metadata": {
    "colab": {
     "autoexec": {
      "startup": false,
      "wait_interval": 0
     }
    },
    "colab_type": "code",
    "id": "ZTeD7r8iVMJv"
   },
   "outputs": [],
   "source": [
    "model.compile(loss='binary_crossentropy',\n",
    "              optimizer='adam',\n",
    "              metrics=['accuracy'])"
   ]
  },
  {
   "cell_type": "markdown",
   "metadata": {
    "colab_type": "text",
    "id": "67THY9BqVPIQ"
   },
   "source": [
    "## Обучаем модель"
   ]
  },
  {
   "cell_type": "code",
   "execution_count": 13,
   "metadata": {
    "colab": {
     "autoexec": {
      "startup": false,
      "wait_interval": 0
     },
     "base_uri": "https://localhost:8080/",
     "height": 294
    },
    "colab_type": "code",
    "executionInfo": {
     "elapsed": 784087,
     "status": "ok",
     "timestamp": 1523210725743,
     "user": {
      "displayName": "Andrey Sozykin",
      "photoUrl": "//lh5.googleusercontent.com/-ErNH158Vx74/AAAAAAAAAAI/AAAAAAAAALA/FLh7rOkXgJs/s50-c-k-no/photo.jpg",
      "userId": "101492825683836041366"
     },
     "user_tz": -300
    },
    "id": "O21SSxaFVRz4",
    "outputId": "99aec20e-5e5f-4fac-ce5b-265ddeb185fe"
   },
   "outputs": [
    {
     "name": "stdout",
     "output_type": "stream",
     "text": [
      "Train on 25000 samples, validate on 25000 samples\n",
      "Epoch 1/7\n",
      " - 113s - loss: 0.5057 - acc: 0.7472 - val_loss: 0.4011 - val_acc: 0.8225\n",
      "Epoch 2/7\n",
      " - 112s - loss: 0.3716 - acc: 0.8421 - val_loss: 0.3954 - val_acc: 0.8224\n",
      "Epoch 3/7\n",
      " - 111s - loss: 0.3366 - acc: 0.8579 - val_loss: 0.3712 - val_acc: 0.8358\n",
      "Epoch 4/7\n",
      " - 112s - loss: 0.3132 - acc: 0.8720 - val_loss: 0.3839 - val_acc: 0.8342\n",
      "Epoch 5/7\n",
      " - 112s - loss: 0.2981 - acc: 0.8766 - val_loss: 0.4523 - val_acc: 0.8247\n",
      "Epoch 6/7\n",
      " - 111s - loss: 0.2850 - acc: 0.8820 - val_loss: 0.3942 - val_acc: 0.8296\n",
      "Epoch 7/7\n",
      " - 111s - loss: 0.2662 - acc: 0.8885 - val_loss: 0.4470 - val_acc: 0.8224\n"
     ]
    },
    {
     "data": {
      "text/plain": [
       "<keras.callbacks.History at 0x7f2217d79be0>"
      ]
     },
     "execution_count": 13,
     "metadata": {
      "tags": []
     },
     "output_type": "execute_result"
    }
   ],
   "source": [
    "model.fit(X_train, y_train, batch_size=64, epochs=7,\n",
    "          validation_data=(X_test, y_test), verbose=2)"
   ]
  },
  {
   "cell_type": "markdown",
   "metadata": {
    "colab_type": "text",
    "id": "nDAaN9LLVwcA"
   },
   "source": [
    "## Оцениваем качество обучения сети"
   ]
  },
  {
   "cell_type": "code",
   "execution_count": 9,
   "metadata": {
    "colab": {
     "autoexec": {
      "startup": false,
      "wait_interval": 0
     },
     "base_uri": "https://localhost:8080/",
     "height": 52
    },
    "colab_type": "code",
    "executionInfo": {
     "elapsed": 26173,
     "status": "ok",
     "timestamp": 1523209904437,
     "user": {
      "displayName": "Andrey Sozykin",
      "photoUrl": "//lh5.googleusercontent.com/-ErNH158Vx74/AAAAAAAAAAI/AAAAAAAAALA/FLh7rOkXgJs/s50-c-k-no/photo.jpg",
      "userId": "101492825683836041366"
     },
     "user_tz": -300
    },
    "id": "LdtdLNdfV0ln",
    "outputId": "1aef2303-bfc5-42c5-e481-83704fc7463d"
   },
   "outputs": [
    {
     "name": "stdout",
     "output_type": "stream",
     "text": [
      "25000/25000 [==============================] - 25s 1ms/step\n",
      "Аккуратность на тестовых данных: 82.96%\n"
     ]
    }
   ],
   "source": [
    "scores = model.evaluate(X_test, y_test,\n",
    "                        batch_size=64)\n",
    "print(\"Аккуратность на тестовых данных: %.2f%%\" % (scores[1] * 100))"
   ]
  }
 ],
 "metadata": {
  "accelerator": "GPU",
  "colab": {
   "default_view": {},
   "name": "imdb_lstm.ipynb",
   "provenance": [],
   "version": "0.3.2",
   "views": {}
  },
  "kernelspec": {
   "display_name": "Python 3",
   "language": "python",
   "name": "python3"
  },
  "language_info": {
   "codemirror_mode": {
    "name": "ipython",
    "version": 3
   },
   "file_extension": ".py",
   "mimetype": "text/x-python",
   "name": "python",
   "nbconvert_exporter": "python",
   "pygments_lexer": "ipython3",
   "version": "3.6.6"
  }
 },
 "nbformat": 4,
 "nbformat_minor": 1
}
