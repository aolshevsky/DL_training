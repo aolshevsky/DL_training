{
 "cells": [
  {
   "cell_type": "code",
   "execution_count": 1,
   "metadata": {},
   "outputs": [
    {
     "name": "stderr",
     "output_type": "stream",
     "text": [
      "Using TensorFlow backend.\n"
     ]
    }
   ],
   "source": [
    "import numpy as np\n",
    "from keras.datasets import boston_housing\n",
    "from keras.models import Sequential\n",
    "from keras.layers import Dense"
   ]
  },
  {
   "cell_type": "code",
   "execution_count": 2,
   "metadata": {},
   "outputs": [],
   "source": [
    "np.random.seed(42)"
   ]
  },
  {
   "cell_type": "code",
   "execution_count": 3,
   "metadata": {},
   "outputs": [],
   "source": [
    "(X_train, y_train), (X_test, y_test) = boston_housing.load_data()"
   ]
  },
  {
   "cell_type": "code",
   "execution_count": 4,
   "metadata": {},
   "outputs": [],
   "source": [
    "mean = X_train.mean(axis=0)\n",
    "std = X_train.std(axis=0)\n",
    "X_train = (X_train - mean) / std\n",
    "X_test = (X_test - mean) / std"
   ]
  },
  {
   "cell_type": "code",
   "execution_count": 5,
   "metadata": {},
   "outputs": [],
   "source": [
    "model = Sequential()\n",
    "model.add(Dense(128, activation='relu',\n",
    "               input_shape=(X_train.shape[1],)))\n",
    "model.add(Dense(1)) # count of put neir"
   ]
  },
  {
   "cell_type": "code",
   "execution_count": 6,
   "metadata": {},
   "outputs": [],
   "source": [
    "model.compile(optimizer='adam', loss='mse', metrics=['mae'])"
   ]
  },
  {
   "cell_type": "code",
   "execution_count": 7,
   "metadata": {},
   "outputs": [
    {
     "name": "stdout",
     "output_type": "stream",
     "text": [
      "_________________________________________________________________\n",
      "Layer (type)                 Output Shape              Param #   \n",
      "=================================================================\n",
      "dense_1 (Dense)              (None, 128)               1792      \n",
      "_________________________________________________________________\n",
      "dense_2 (Dense)              (None, 1)                 129       \n",
      "=================================================================\n",
      "Total params: 1,921\n",
      "Trainable params: 1,921\n",
      "Non-trainable params: 0\n",
      "_________________________________________________________________\n",
      "None\n"
     ]
    }
   ],
   "source": [
    "print(model.summary())"
   ]
  },
  {
   "cell_type": "code",
   "execution_count": 9,
   "metadata": {},
   "outputs": [
    {
     "name": "stdout",
     "output_type": "stream",
     "text": [
      "Epoch 1/100\n",
      " - 0s - loss: 10.6268 - mean_absolute_error: 2.2827\n",
      "Epoch 2/100\n",
      " - 0s - loss: 10.1717 - mean_absolute_error: 2.2462\n",
      "Epoch 3/100\n",
      " - 0s - loss: 9.6484 - mean_absolute_error: 2.2073\n",
      "Epoch 4/100\n",
      " - 0s - loss: 9.7588 - mean_absolute_error: 2.2089\n",
      "Epoch 5/100\n",
      " - 0s - loss: 9.3549 - mean_absolute_error: 2.1631\n",
      "Epoch 6/100\n",
      " - 0s - loss: 9.0763 - mean_absolute_error: 2.0945\n",
      "Epoch 7/100\n",
      " - 0s - loss: 9.0759 - mean_absolute_error: 2.1594\n",
      "Epoch 8/100\n",
      " - 0s - loss: 8.8211 - mean_absolute_error: 2.1055\n",
      "Epoch 9/100\n",
      " - 0s - loss: 8.5863 - mean_absolute_error: 2.0410\n",
      "Epoch 10/100\n",
      " - 0s - loss: 8.5642 - mean_absolute_error: 2.0416\n",
      "Epoch 11/100\n",
      " - 0s - loss: 8.2425 - mean_absolute_error: 2.0229\n",
      "Epoch 12/100\n",
      " - 0s - loss: 8.0300 - mean_absolute_error: 1.9852\n",
      "Epoch 13/100\n",
      " - 0s - loss: 7.9368 - mean_absolute_error: 1.9711\n",
      "Epoch 14/100\n",
      " - 0s - loss: 7.7027 - mean_absolute_error: 1.9705\n",
      "Epoch 15/100\n",
      " - 0s - loss: 7.7136 - mean_absolute_error: 1.9718\n",
      "Epoch 16/100\n",
      " - 0s - loss: 7.7018 - mean_absolute_error: 1.9441\n",
      "Epoch 17/100\n",
      " - 0s - loss: 7.2850 - mean_absolute_error: 1.8916\n",
      "Epoch 18/100\n",
      " - 0s - loss: 7.4091 - mean_absolute_error: 1.9044\n",
      "Epoch 19/100\n",
      " - 0s - loss: 7.4544 - mean_absolute_error: 1.9841\n",
      "Epoch 20/100\n",
      " - 0s - loss: 7.0830 - mean_absolute_error: 1.8780\n",
      "Epoch 21/100\n",
      " - 0s - loss: 6.7684 - mean_absolute_error: 1.8414\n",
      "Epoch 22/100\n",
      " - 0s - loss: 7.1467 - mean_absolute_error: 1.8983\n",
      "Epoch 23/100\n",
      " - 0s - loss: 7.0116 - mean_absolute_error: 1.9024\n",
      "Epoch 24/100\n",
      " - 0s - loss: 6.8607 - mean_absolute_error: 1.8613\n",
      "Epoch 25/100\n",
      " - 0s - loss: 6.5257 - mean_absolute_error: 1.8139\n",
      "Epoch 26/100\n",
      " - 0s - loss: 6.9479 - mean_absolute_error: 1.8687\n",
      "Epoch 27/100\n",
      " - 0s - loss: 6.5410 - mean_absolute_error: 1.7488\n",
      "Epoch 28/100\n",
      " - 0s - loss: 6.6493 - mean_absolute_error: 1.8432\n",
      "Epoch 29/100\n",
      " - 0s - loss: 6.6718 - mean_absolute_error: 1.8456\n",
      "Epoch 30/100\n",
      " - 0s - loss: 6.5268 - mean_absolute_error: 1.8109\n",
      "Epoch 31/100\n",
      " - 0s - loss: 6.2757 - mean_absolute_error: 1.8102\n",
      "Epoch 32/100\n",
      " - 0s - loss: 6.5122 - mean_absolute_error: 1.8149\n",
      "Epoch 33/100\n",
      " - 0s - loss: 6.3230 - mean_absolute_error: 1.8067\n",
      "Epoch 34/100\n",
      " - 0s - loss: 6.4700 - mean_absolute_error: 1.7983\n",
      "Epoch 35/100\n",
      " - 0s - loss: 6.3986 - mean_absolute_error: 1.7867\n",
      "Epoch 36/100\n",
      " - 0s - loss: 6.3857 - mean_absolute_error: 1.7799\n",
      "Epoch 37/100\n",
      " - 0s - loss: 6.0468 - mean_absolute_error: 1.7441\n",
      "Epoch 38/100\n",
      " - 0s - loss: 6.2220 - mean_absolute_error: 1.7656\n",
      "Epoch 39/100\n",
      " - 0s - loss: 5.8906 - mean_absolute_error: 1.7429\n",
      "Epoch 40/100\n",
      " - 0s - loss: 5.8788 - mean_absolute_error: 1.7281\n",
      "Epoch 41/100\n",
      " - 0s - loss: 6.0742 - mean_absolute_error: 1.7416\n",
      "Epoch 42/100\n",
      " - 0s - loss: 5.9341 - mean_absolute_error: 1.7355\n",
      "Epoch 43/100\n",
      " - 0s - loss: 5.7167 - mean_absolute_error: 1.6971\n",
      "Epoch 44/100\n",
      " - 0s - loss: 5.9571 - mean_absolute_error: 1.7436\n",
      "Epoch 45/100\n",
      " - 0s - loss: 5.5736 - mean_absolute_error: 1.6520\n",
      "Epoch 46/100\n",
      " - 0s - loss: 5.7166 - mean_absolute_error: 1.7000\n",
      "Epoch 47/100\n",
      " - 0s - loss: 5.6566 - mean_absolute_error: 1.6920\n",
      "Epoch 48/100\n",
      " - 0s - loss: 5.6590 - mean_absolute_error: 1.7210\n",
      "Epoch 49/100\n",
      " - 0s - loss: 5.5854 - mean_absolute_error: 1.6887\n",
      "Epoch 50/100\n",
      " - 0s - loss: 5.4134 - mean_absolute_error: 1.6030\n",
      "Epoch 51/100\n",
      " - 0s - loss: 5.5717 - mean_absolute_error: 1.6677\n",
      "Epoch 52/100\n",
      " - 0s - loss: 5.5467 - mean_absolute_error: 1.6814\n",
      "Epoch 53/100\n",
      " - 0s - loss: 5.4292 - mean_absolute_error: 1.6313\n",
      "Epoch 54/100\n",
      " - 0s - loss: 5.4224 - mean_absolute_error: 1.6534\n",
      "Epoch 55/100\n",
      " - 0s - loss: 5.4293 - mean_absolute_error: 1.6466\n",
      "Epoch 56/100\n",
      " - 0s - loss: 5.2285 - mean_absolute_error: 1.5995\n",
      "Epoch 57/100\n",
      " - 0s - loss: 5.5668 - mean_absolute_error: 1.6976\n",
      "Epoch 58/100\n",
      " - 0s - loss: 5.1649 - mean_absolute_error: 1.5834\n",
      "Epoch 59/100\n",
      " - 0s - loss: 5.0796 - mean_absolute_error: 1.6036\n",
      "Epoch 60/100\n",
      " - 0s - loss: 5.1585 - mean_absolute_error: 1.6205\n",
      "Epoch 61/100\n",
      " - 0s - loss: 5.1251 - mean_absolute_error: 1.6113\n",
      "Epoch 62/100\n",
      " - 0s - loss: 4.9452 - mean_absolute_error: 1.5839\n",
      "Epoch 63/100\n",
      " - 0s - loss: 4.9945 - mean_absolute_error: 1.5471\n",
      "Epoch 64/100\n",
      " - 0s - loss: 5.1378 - mean_absolute_error: 1.5730\n",
      "Epoch 65/100\n",
      " - 0s - loss: 4.9628 - mean_absolute_error: 1.5576\n",
      "Epoch 66/100\n",
      " - 0s - loss: 4.8872 - mean_absolute_error: 1.5587\n",
      "Epoch 67/100\n",
      " - 0s - loss: 4.7892 - mean_absolute_error: 1.5667\n",
      "Epoch 68/100\n",
      " - 0s - loss: 5.0439 - mean_absolute_error: 1.5746\n",
      "Epoch 69/100\n",
      " - 0s - loss: 4.6826 - mean_absolute_error: 1.5510\n",
      "Epoch 70/100\n",
      " - 0s - loss: 4.6401 - mean_absolute_error: 1.5283\n",
      "Epoch 71/100\n",
      " - 0s - loss: 4.7194 - mean_absolute_error: 1.5381\n",
      "Epoch 72/100\n",
      " - 0s - loss: 4.6976 - mean_absolute_error: 1.5467\n",
      "Epoch 73/100\n",
      " - 0s - loss: 4.7566 - mean_absolute_error: 1.5614\n",
      "Epoch 74/100\n",
      " - 0s - loss: 4.5910 - mean_absolute_error: 1.5205\n",
      "Epoch 75/100\n",
      " - 0s - loss: 4.6058 - mean_absolute_error: 1.5514\n",
      "Epoch 76/100\n",
      " - 0s - loss: 4.5747 - mean_absolute_error: 1.4880\n",
      "Epoch 77/100\n",
      " - 0s - loss: 4.5670 - mean_absolute_error: 1.4935\n",
      "Epoch 78/100\n",
      " - 0s - loss: 4.5831 - mean_absolute_error: 1.5183\n",
      "Epoch 79/100\n",
      " - 0s - loss: 4.4409 - mean_absolute_error: 1.4857\n",
      "Epoch 80/100\n",
      " - 0s - loss: 4.4984 - mean_absolute_error: 1.5039\n",
      "Epoch 81/100\n",
      " - 0s - loss: 4.3150 - mean_absolute_error: 1.4659\n",
      "Epoch 82/100\n",
      " - 0s - loss: 4.2394 - mean_absolute_error: 1.4621\n",
      "Epoch 83/100\n",
      " - 0s - loss: 3.9862 - mean_absolute_error: 1.4187\n",
      "Epoch 84/100\n",
      " - 0s - loss: 4.4919 - mean_absolute_error: 1.4731\n",
      "Epoch 85/100\n",
      " - 0s - loss: 4.1262 - mean_absolute_error: 1.4426\n",
      "Epoch 86/100\n",
      " - 0s - loss: 4.3430 - mean_absolute_error: 1.4837\n",
      "Epoch 87/100\n",
      " - 0s - loss: 4.3272 - mean_absolute_error: 1.4803\n",
      "Epoch 88/100\n",
      " - 0s - loss: 4.2238 - mean_absolute_error: 1.4494\n",
      "Epoch 89/100\n",
      " - 0s - loss: 4.2024 - mean_absolute_error: 1.4670\n",
      "Epoch 90/100\n",
      " - 0s - loss: 4.1737 - mean_absolute_error: 1.4766\n",
      "Epoch 91/100\n",
      " - 0s - loss: 4.1844 - mean_absolute_error: 1.4495\n",
      "Epoch 92/100\n",
      " - 0s - loss: 4.1928 - mean_absolute_error: 1.4557\n",
      "Epoch 93/100\n",
      " - 0s - loss: 4.3745 - mean_absolute_error: 1.5210\n",
      "Epoch 94/100\n",
      " - 0s - loss: 4.2269 - mean_absolute_error: 1.4464\n",
      "Epoch 95/100\n",
      " - 0s - loss: 4.0931 - mean_absolute_error: 1.4121\n",
      "Epoch 96/100\n",
      " - 0s - loss: 3.9518 - mean_absolute_error: 1.4192\n",
      "Epoch 97/100\n",
      " - 0s - loss: 3.9127 - mean_absolute_error: 1.4119\n",
      "Epoch 98/100\n",
      " - 0s - loss: 4.1295 - mean_absolute_error: 1.4635\n",
      "Epoch 99/100\n",
      " - 0s - loss: 3.8948 - mean_absolute_error: 1.4102\n",
      "Epoch 100/100\n",
      " - 0s - loss: 3.6749 - mean_absolute_error: 1.3929\n"
     ]
    },
    {
     "data": {
      "text/plain": [
       "<keras.callbacks.History at 0x18ac55c0198>"
      ]
     },
     "execution_count": 9,
     "metadata": {},
     "output_type": "execute_result"
    }
   ],
   "source": [
    "model.fit(X_train, y_train, epochs=100, batch_size=1, verbose=2)"
   ]
  },
  {
   "cell_type": "code",
   "execution_count": 10,
   "metadata": {},
   "outputs": [],
   "source": [
    "pred = model.predict(X_test)"
   ]
  },
  {
   "cell_type": "code",
   "execution_count": 11,
   "metadata": {},
   "outputs": [],
   "source": [
    "mse, mae = model.evaluate(X_test, y_test, verbose=0)"
   ]
  },
  {
   "cell_type": "code",
   "execution_count": 12,
   "metadata": {},
   "outputs": [
    {
     "data": {
      "text/plain": [
       "(11.083863202263327, 2.3371910020416857)"
      ]
     },
     "execution_count": 12,
     "metadata": {},
     "output_type": "execute_result"
    }
   ],
   "source": [
    "mse, mae"
   ]
  },
  {
   "cell_type": "code",
   "execution_count": 13,
   "metadata": {},
   "outputs": [
    {
     "name": "stdout",
     "output_type": "stream",
     "text": [
      "18.65296 18.8\n"
     ]
    }
   ],
   "source": [
    "print(pred[1][0], y_test[1])"
   ]
  },
  {
   "cell_type": "code",
   "execution_count": null,
   "metadata": {},
   "outputs": [],
   "source": []
  }
 ],
 "metadata": {
  "kernelspec": {
   "display_name": "Python 3",
   "language": "python",
   "name": "python3"
  },
  "language_info": {
   "codemirror_mode": {
    "name": "ipython",
    "version": 3
   },
   "file_extension": ".py",
   "mimetype": "text/x-python",
   "name": "python",
   "nbconvert_exporter": "python",
   "pygments_lexer": "ipython3",
   "version": "3.6.6"
  }
 },
 "nbformat": 4,
 "nbformat_minor": 2
}
