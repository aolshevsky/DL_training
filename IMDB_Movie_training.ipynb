{
 "cells": [
  {
   "cell_type": "code",
   "execution_count": 1,
   "metadata": {},
   "outputs": [
    {
     "name": "stderr",
     "output_type": "stream",
     "text": [
      "Using TensorFlow backend.\n"
     ]
    }
   ],
   "source": [
    "import numpy as np\n",
    "from keras.preprocessing import sequence\n",
    "from keras.models import Sequential\n",
    "from keras.layers import Dense, Activation, Embedding\n",
    "from keras.layers import LSTM, SpatialDropout1D\n",
    "from keras.datasets import imdb"
   ]
  },
  {
   "cell_type": "code",
   "execution_count": 2,
   "metadata": {},
   "outputs": [],
   "source": [
    "np.random.seed(42)"
   ]
  },
  {
   "cell_type": "code",
   "execution_count": 3,
   "metadata": {},
   "outputs": [],
   "source": [
    "# Максимальное кол-во слов по частоте использования\n",
    "max_features = 5000\n",
    "# Максимальная длина рецензии в словах\n",
    "maxlen = 80"
   ]
  },
  {
   "cell_type": "code",
   "execution_count": 4,
   "metadata": {},
   "outputs": [],
   "source": [
    "(X_train, y_train), (X_test, y_test) = imdb.load_data(num_words=max_features)"
   ]
  },
  {
   "cell_type": "markdown",
   "metadata": {},
   "source": [
    "## Предварительная обработка рецензий"
   ]
  },
  {
   "cell_type": "code",
   "execution_count": 5,
   "metadata": {},
   "outputs": [],
   "source": [
    "X_train = sequence.pad_sequences(X_train, maxlen=maxlen)\n",
    "X_test = sequence.pad_sequences(X_test, maxlen=maxlen)"
   ]
  },
  {
   "cell_type": "markdown",
   "metadata": {},
   "source": [
    "## Создаем нейронную сеть"
   ]
  },
  {
   "cell_type": "code",
   "execution_count": 6,
   "metadata": {},
   "outputs": [],
   "source": [
    "model = Sequential()\n",
    "# Слой для векторного представления слов\n",
    "model.add(Embedding(max_features, 32))\n",
    "model.add(SpatialDropout1D(0.2))\n",
    "# Слой долго-краткосрочной памяти\n",
    "model.add(LSTM(100, dropout=0.2, recurrent_dropout=0.2)) \n",
    "# Полносвязный слой\n",
    "model.add(Dense(1, activation=\"sigmoid\"))"
   ]
  },
  {
   "cell_type": "code",
   "execution_count": 7,
   "metadata": {},
   "outputs": [],
   "source": [
    "model.compile(loss='binary_crossentropy',\n",
    "             optimizer='adam',\n",
    "             metrics=['accuracy'])"
   ]
  },
  {
   "cell_type": "code",
   "execution_count": 8,
   "metadata": {},
   "outputs": [
    {
     "name": "stdout",
     "output_type": "stream",
     "text": [
      "_________________________________________________________________\n",
      "Layer (type)                 Output Shape              Param #   \n",
      "=================================================================\n",
      "embedding_1 (Embedding)      (None, None, 32)          160000    \n",
      "_________________________________________________________________\n",
      "spatial_dropout1d_1 (Spatial (None, None, 32)          0         \n",
      "_________________________________________________________________\n",
      "lstm_1 (LSTM)                (None, 100)               53200     \n",
      "_________________________________________________________________\n",
      "dense_1 (Dense)              (None, 1)                 101       \n",
      "=================================================================\n",
      "Total params: 213,301\n",
      "Trainable params: 213,301\n",
      "Non-trainable params: 0\n",
      "_________________________________________________________________\n",
      "None\n"
     ]
    }
   ],
   "source": [
    "print(model.summary())"
   ]
  },
  {
   "cell_type": "code",
   "execution_count": 10,
   "metadata": {},
   "outputs": [
    {
     "name": "stdout",
     "output_type": "stream",
     "text": [
      "Train on 25000 samples, validate on 25000 samples\n",
      "Epoch 1/7\n",
      "25000/25000 [==============================] - 74s 3ms/step - loss: 0.5121 - acc: 0.7454 - val_loss: 0.3882 - val_acc: 0.8290\n",
      "Epoch 2/7\n",
      "25000/25000 [==============================] - 72s 3ms/step - loss: 0.3746 - acc: 0.8404 - val_loss: 0.3750 - val_acc: 0.8346\n",
      "Epoch 3/7\n",
      "25000/25000 [==============================] - 74s 3ms/step - loss: 0.3422 - acc: 0.8586 - val_loss: 0.3796 - val_acc: 0.8306\n",
      "Epoch 4/7\n",
      "25000/25000 [==============================] - 74s 3ms/step - loss: 0.3145 - acc: 0.8723 - val_loss: 0.3667 - val_acc: 0.8376\n",
      "Epoch 5/7\n",
      "25000/25000 [==============================] - 71s 3ms/step - loss: 0.2994 - acc: 0.8778 - val_loss: 0.4007 - val_acc: 0.8286\n",
      "Epoch 6/7\n",
      "25000/25000 [==============================] - 72s 3ms/step - loss: 0.2851 - acc: 0.8859 - val_loss: 0.3944 - val_acc: 0.8329\n",
      "Epoch 7/7\n",
      "25000/25000 [==============================] - 79s 3ms/step - loss: 0.2644 - acc: 0.8942 - val_loss: 0.4010 - val_acc: 0.8309\n"
     ]
    },
    {
     "data": {
      "text/plain": [
       "<keras.callbacks.History at 0x230077e7dd8>"
      ]
     },
     "execution_count": 10,
     "metadata": {},
     "output_type": "execute_result"
    }
   ],
   "source": [
    "model.fit(X_train, y_train, batch_size=64, epochs=7,\n",
    "         validation_data=(X_test, y_test), verbose=1)"
   ]
  },
  {
   "cell_type": "code",
   "execution_count": 12,
   "metadata": {},
   "outputs": [
    {
     "name": "stdout",
     "output_type": "stream",
     "text": [
      "25000/25000 [==============================] - 14s 557us/step\n",
      "Точность на тестовых данных: 83.09%\n"
     ]
    }
   ],
   "source": [
    "scores = model.evaluate(X_test, y_test,\n",
    "                        batch_size=64)\n",
    "print(\"Точность на тестовых данных: %.2f%%\" % (scores[1] * 100))"
   ]
  },
  {
   "cell_type": "code",
   "execution_count": 13,
   "metadata": {},
   "outputs": [],
   "source": [
    "model_json = model.to_json()\n",
    "with open(\"imdb_model.json\", \"w\") as f:\n",
    "    f.write(model_json)\n",
    "\n",
    "model.save_weights(\"imdb_model.h5\")"
   ]
  },
  {
   "cell_type": "code",
   "execution_count": null,
   "metadata": {},
   "outputs": [],
   "source": []
  }
 ],
 "metadata": {
  "kernelspec": {
   "display_name": "Python 3",
   "language": "python",
   "name": "python3"
  },
  "language_info": {
   "codemirror_mode": {
    "name": "ipython",
    "version": 3
   },
   "file_extension": ".py",
   "mimetype": "text/x-python",
   "name": "python",
   "nbconvert_exporter": "python",
   "pygments_lexer": "ipython3",
   "version": "3.6.6"
  }
 },
 "nbformat": 4,
 "nbformat_minor": 2
}
